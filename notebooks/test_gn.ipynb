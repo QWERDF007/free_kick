{
 "cells": [
  {
   "cell_type": "code",
   "execution_count": 13,
   "metadata": {},
   "outputs": [],
   "source": [
    "import numpy as np\n",
    "import torch\n",
    "import torch.nn"
   ]
  },
  {
   "cell_type": "code",
   "execution_count": 14,
   "metadata": {},
   "outputs": [
    {
     "data": {
      "text/plain": [
       "(torch.Size([3, 4, 2, 2]),\n",
       " tensor([1., 1., 1., 1., 0., 1., 1., 0., 0., 0., 0., 1., 1., 1., 0., 0., 2., 2.,\n",
       "         0., 0., 2., 0., 1., 1., 1., 0., 0., 2., 2., 1., 1., 0., 3., 1., 2., 2.,\n",
       "         3., 0., 0., 2., 2., 3., 1., 2., 3., 3., 2., 1.]))"
      ]
     },
     "execution_count": 14,
     "metadata": {},
     "output_type": "execute_result"
    }
   ],
   "source": [
    "a = torch.tensor([[[[1.,1],[1,1]],[[0,1],[1,0]],[[0,0],[0,1]],[[1,1],[0,0]]],\n",
    "                  [[[2.,2],[0,0]],[[2,0],[1,1]],[[1,0],[0,2]],[[2,1],[1,0]]],\n",
    "                  [[[3.,1],[2,2]],[[3,0],[0,2]],[[2,3],[1,2]],[[3,3],[2,1]]]])\n",
    "c = a.clone()\n",
    "a.shape, c.reshape(-1)"
   ]
  },
  {
   "cell_type": "markdown",
   "metadata": {},
   "source": []
  },
  {
   "cell_type": "code",
   "execution_count": 15,
   "metadata": {},
   "outputs": [
    {
     "data": {
      "text/plain": [
       "(torch.Size([3, 4, 2, 2]),\n",
       " tensor([[[[1., 1.],\n",
       "           [1., 1.]],\n",
       " \n",
       "          [[0., 1.],\n",
       "           [1., 0.]],\n",
       " \n",
       "          [[0., 0.],\n",
       "           [0., 1.]],\n",
       " \n",
       "          [[1., 1.],\n",
       "           [0., 0.]]],\n",
       " \n",
       " \n",
       "         [[[2., 2.],\n",
       "           [0., 0.]],\n",
       " \n",
       "          [[2., 0.],\n",
       "           [1., 1.]],\n",
       " \n",
       "          [[1., 0.],\n",
       "           [0., 2.]],\n",
       " \n",
       "          [[2., 1.],\n",
       "           [1., 0.]]],\n",
       " \n",
       " \n",
       "         [[[3., 1.],\n",
       "           [2., 2.]],\n",
       " \n",
       "          [[3., 0.],\n",
       "           [0., 2.]],\n",
       " \n",
       "          [[2., 3.],\n",
       "           [1., 2.]],\n",
       " \n",
       "          [[3., 3.],\n",
       "           [2., 1.]]]]))"
      ]
     },
     "execution_count": 15,
     "metadata": {},
     "output_type": "execute_result"
    }
   ],
   "source": [
    "a.shape, a"
   ]
  },
  {
   "cell_type": "code",
   "execution_count": 16,
   "metadata": {},
   "outputs": [
    {
     "data": {
      "text/plain": [
       "(torch.Size([3, 4, 2, 2]),\n",
       " tensor([[[[ 5.7733e-01,  5.7733e-01],\n",
       "           [ 5.7733e-01,  5.7733e-01]],\n",
       " \n",
       "          [[-1.7320e+00,  5.7733e-01],\n",
       "           [ 5.7733e-01, -1.7320e+00]],\n",
       " \n",
       "          [[-7.7458e-01, -7.7458e-01],\n",
       "           [-7.7458e-01,  1.2910e+00]],\n",
       " \n",
       "          [[ 1.2910e+00,  1.2910e+00],\n",
       "           [-7.7458e-01, -7.7458e-01]]],\n",
       " \n",
       " \n",
       "         [[[ 1.1547e+00,  1.1547e+00],\n",
       "           [-1.1547e+00, -1.1547e+00]],\n",
       " \n",
       "          [[ 1.1547e+00, -1.1547e+00],\n",
       "           [ 1.1921e-07,  1.1921e-07]],\n",
       " \n",
       "          [[ 1.6013e-01, -1.1209e+00],\n",
       "           [-1.1209e+00,  1.4411e+00]],\n",
       " \n",
       "          [[ 1.4411e+00,  1.6013e-01],\n",
       "           [ 1.6013e-01, -1.1209e+00]]],\n",
       " \n",
       " \n",
       "         [[[ 1.2376e+00, -5.6254e-01],\n",
       "           [ 3.3753e-01,  3.3753e-01]],\n",
       " \n",
       "          [[ 1.2376e+00, -1.4626e+00],\n",
       "           [-1.4626e+00,  3.3753e-01]],\n",
       " \n",
       "          [[-1.6013e-01,  1.1209e+00],\n",
       "           [-1.4411e+00, -1.6013e-01]],\n",
       " \n",
       "          [[ 1.1209e+00,  1.1209e+00],\n",
       "           [-1.6013e-01, -1.4411e+00]]]], grad_fn=<NativeGroupNormBackward0>))"
      ]
     },
     "execution_count": 16,
     "metadata": {},
     "output_type": "execute_result"
    }
   ],
   "source": [
    "gn = torch.nn.GroupNorm(num_groups=2, num_channels=4, affine=True)\n",
    "m = gn(a)\n",
    "m.shape, m"
   ]
  },
  {
   "cell_type": "code",
   "execution_count": 26,
   "metadata": {},
   "outputs": [
    {
     "data": {
      "text/plain": [
       "tensor([ 5.7733e-01,  5.7733e-01,  5.7733e-01,  5.7733e-01, -1.7320e+00,\n",
       "         5.7733e-01,  5.7733e-01, -1.7320e+00, -7.7458e-01, -7.7458e-01,\n",
       "        -7.7458e-01,  1.2910e+00,  1.2910e+00,  1.2910e+00, -7.7458e-01,\n",
       "        -7.7458e-01,  1.1547e+00,  1.1547e+00, -1.1547e+00, -1.1547e+00,\n",
       "         1.1547e+00, -1.1547e+00,  1.1921e-07,  1.1921e-07,  1.6013e-01,\n",
       "        -1.1209e+00, -1.1209e+00,  1.4411e+00,  1.4411e+00,  1.6013e-01,\n",
       "         1.6013e-01, -1.1209e+00,  1.2376e+00, -5.6254e-01,  3.3753e-01,\n",
       "         3.3753e-01,  1.2376e+00, -1.4626e+00, -1.4626e+00,  3.3753e-01,\n",
       "        -1.6013e-01,  1.1209e+00, -1.4411e+00, -1.6013e-01,  1.1209e+00,\n",
       "         1.1209e+00, -1.6013e-01, -1.4411e+00],\n",
       "       grad_fn=<ReshapeAliasBackward0>)"
      ]
     },
     "execution_count": 26,
     "metadata": {},
     "output_type": "execute_result"
    }
   ],
   "source": [
    "m.reshape(-1)"
   ]
  },
  {
   "cell_type": "code",
   "execution_count": 17,
   "metadata": {},
   "outputs": [
    {
     "data": {
      "text/plain": [
       "tensor([[[ 0.5774,  0.5774],\n",
       "         [ 0.5774,  0.5774]],\n",
       "\n",
       "        [[-1.7321,  0.5774],\n",
       "         [ 0.5774, -1.7321]]])"
      ]
     },
     "execution_count": 17,
     "metadata": {},
     "output_type": "execute_result"
    }
   ],
   "source": [
    "tmp = a[0, :2, :].clone()\n",
    "(tmp - tmp.mean()) / tmp.std(correction=0)"
   ]
  },
  {
   "cell_type": "code",
   "execution_count": 18,
   "metadata": {},
   "outputs": [],
   "source": [
    "b = np.array([1,1,1,1,1,1,0,0])"
   ]
  },
  {
   "cell_type": "code",
   "execution_count": 19,
   "metadata": {},
   "outputs": [
    {
     "data": {
      "text/plain": [
       "array([ 0.57735027,  0.57735027,  0.57735027,  0.57735027,  0.57735027,\n",
       "        0.57735027, -1.73205081, -1.73205081])"
      ]
     },
     "execution_count": 19,
     "metadata": {},
     "output_type": "execute_result"
    }
   ],
   "source": [
    "(b - b.mean()) / b.std()"
   ]
  },
  {
   "cell_type": "code",
   "execution_count": 20,
   "metadata": {},
   "outputs": [
    {
     "data": {
      "text/plain": [
       "tensor([0.7500, 0.7500])"
      ]
     },
     "execution_count": 20,
     "metadata": {},
     "output_type": "execute_result"
    }
   ],
   "source": [
    "tmp.mean(dim=(0,2))"
   ]
  },
  {
   "cell_type": "code",
   "execution_count": 21,
   "metadata": {},
   "outputs": [
    {
     "data": {
      "text/plain": [
       "0.17445771563671483"
      ]
     },
     "execution_count": 21,
     "metadata": {},
     "output_type": "execute_result"
    }
   ],
   "source": [
    "(1 - 0.75) / 1.433012"
   ]
  },
  {
   "cell_type": "code",
   "execution_count": 22,
   "metadata": {},
   "outputs": [
    {
     "name": "stdout",
     "output_type": "stream",
     "text": [
      "torch.Size([4]) None Parameter containing:\n",
      "tensor([1., 1., 1., 1.], requires_grad=True)\n",
      "torch.Size([4]) None Parameter containing:\n",
      "tensor([0., 0., 0., 0.], requires_grad=True)\n"
     ]
    }
   ],
   "source": [
    "for param in gn.parameters():\n",
    "    print(param.shape, param.name, param)"
   ]
  },
  {
   "cell_type": "code",
   "execution_count": 25,
   "metadata": {},
   "outputs": [
    {
     "name": "stdout",
     "output_type": "stream",
     "text": [
      "torch.Size([24]) None Parameter containing:\n",
      "tensor([1., 1., 1., 1., 1., 1., 1., 1., 1., 1., 1., 1., 1., 1., 1., 1., 1., 1.,\n",
      "        1., 1., 1., 1., 1., 1.], requires_grad=True)\n",
      "torch.Size([24]) None Parameter containing:\n",
      "tensor([0., 0., 0., 0., 0., 0., 0., 0., 0., 0., 0., 0., 0., 0., 0., 0., 0., 0., 0., 0., 0., 0., 0., 0.],\n",
      "       requires_grad=True)\n"
     ]
    }
   ],
   "source": [
    "gn2 = torch.nn.GroupNorm(num_groups=4, num_channels=24, affine=True)\n",
    "for param in gn2.parameters():\n",
    "    print(param.shape, param.name, param)"
   ]
  }
 ],
 "metadata": {
  "kernelspec": {
   "display_name": "dev",
   "language": "python",
   "name": "python3"
  },
  "language_info": {
   "codemirror_mode": {
    "name": "ipython",
    "version": 3
   },
   "file_extension": ".py",
   "mimetype": "text/x-python",
   "name": "python",
   "nbconvert_exporter": "python",
   "pygments_lexer": "ipython3",
   "version": "3.8.16"
  },
  "orig_nbformat": 4
 },
 "nbformat": 4,
 "nbformat_minor": 2
}
