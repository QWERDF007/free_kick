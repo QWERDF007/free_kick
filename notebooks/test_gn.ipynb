{
 "cells": [
  {
   "cell_type": "code",
   "execution_count": 52,
   "metadata": {},
   "outputs": [],
   "source": [
    "import numpy as np\n",
    "import torch\n",
    "import torch.nn"
   ]
  },
  {
   "cell_type": "code",
   "execution_count": 152,
   "metadata": {},
   "outputs": [
    {
     "data": {
      "text/plain": [
       "(torch.Size([3, 4, 2, 2]),\n",
       " tensor([1., 1., 1., 1., 0., 1., 1., 0., 0., 0., 0., 1., 1., 1., 0., 0., 2., 2.,\n",
       "         0., 0., 2., 0., 1., 1., 1., 0., 0., 2., 2., 1., 1., 0., 3., 1., 2., 2.,\n",
       "         3., 0., 0., 2., 2., 3., 1., 2., 3., 3., 2., 1.]))"
      ]
     },
     "execution_count": 152,
     "metadata": {},
     "output_type": "execute_result"
    }
   ],
   "source": [
    "a = torch.tensor([[[[1.,1],[1,1]],[[0,1],[1,0]],[[0,0],[0,1]],[[1,1],[0,0]]],\n",
    "                  [[[2.,2],[0,0]],[[2,0],[1,1]],[[1,0],[0,2]],[[2,1],[1,0]]],\n",
    "                  [[[3.,1],[2,2]],[[3,0],[0,2]],[[2,3],[1,2]],[[3,3],[2,1]]]])\n",
    "c = a.clone()\n",
    "a.shape, c.reshape(-1)"
   ]
  },
  {
   "cell_type": "markdown",
   "metadata": {},
   "source": []
  },
  {
   "cell_type": "code",
   "execution_count": 80,
   "metadata": {},
   "outputs": [
    {
     "data": {
      "text/plain": [
       "(torch.Size([3, 4, 2, 2]),\n",
       " tensor([[[[1., 1.],\n",
       "           [1., 1.]],\n",
       " \n",
       "          [[0., 1.],\n",
       "           [1., 0.]],\n",
       " \n",
       "          [[0., 0.],\n",
       "           [0., 1.]],\n",
       " \n",
       "          [[1., 1.],\n",
       "           [0., 0.]]],\n",
       " \n",
       " \n",
       "         [[[2., 2.],\n",
       "           [0., 0.]],\n",
       " \n",
       "          [[2., 0.],\n",
       "           [1., 1.]],\n",
       " \n",
       "          [[1., 0.],\n",
       "           [0., 2.]],\n",
       " \n",
       "          [[2., 1.],\n",
       "           [1., 0.]]],\n",
       " \n",
       " \n",
       "         [[[3., 1.],\n",
       "           [2., 2.]],\n",
       " \n",
       "          [[3., 0.],\n",
       "           [0., 2.]],\n",
       " \n",
       "          [[2., 3.],\n",
       "           [1., 2.]],\n",
       " \n",
       "          [[3., 3.],\n",
       "           [2., 1.]]]]))"
      ]
     },
     "execution_count": 80,
     "metadata": {},
     "output_type": "execute_result"
    }
   ],
   "source": [
    "a.shape, a"
   ]
  },
  {
   "cell_type": "code",
   "execution_count": 153,
   "metadata": {},
   "outputs": [
    {
     "data": {
      "text/plain": [
       "(torch.Size([3, 4, 2, 2]),\n",
       " tensor([[[[ 5.7733e-01,  5.7733e-01],\n",
       "           [ 5.7733e-01,  5.7733e-01]],\n",
       " \n",
       "          [[-1.7320e+00,  5.7733e-01],\n",
       "           [ 5.7733e-01, -1.7320e+00]],\n",
       " \n",
       "          [[-7.7458e-01, -7.7458e-01],\n",
       "           [-7.7458e-01,  1.2910e+00]],\n",
       " \n",
       "          [[ 1.2910e+00,  1.2910e+00],\n",
       "           [-7.7458e-01, -7.7458e-01]]],\n",
       " \n",
       " \n",
       "         [[[ 1.1547e+00,  1.1547e+00],\n",
       "           [-1.1547e+00, -1.1547e+00]],\n",
       " \n",
       "          [[ 1.1547e+00, -1.1547e+00],\n",
       "           [ 1.1921e-07,  1.1921e-07]],\n",
       " \n",
       "          [[ 1.6013e-01, -1.1209e+00],\n",
       "           [-1.1209e+00,  1.4411e+00]],\n",
       " \n",
       "          [[ 1.4411e+00,  1.6013e-01],\n",
       "           [ 1.6013e-01, -1.1209e+00]]],\n",
       " \n",
       " \n",
       "         [[[ 1.2376e+00, -5.6254e-01],\n",
       "           [ 3.3753e-01,  3.3753e-01]],\n",
       " \n",
       "          [[ 1.2376e+00, -1.4626e+00],\n",
       "           [-1.4626e+00,  3.3753e-01]],\n",
       " \n",
       "          [[-1.6013e-01,  1.1209e+00],\n",
       "           [-1.4411e+00, -1.6013e-01]],\n",
       " \n",
       "          [[ 1.1209e+00,  1.1209e+00],\n",
       "           [-1.6013e-01, -1.4411e+00]]]], grad_fn=<NativeGroupNormBackward0>))"
      ]
     },
     "execution_count": 153,
     "metadata": {},
     "output_type": "execute_result"
    }
   ],
   "source": [
    "gn = torch.nn.GroupNorm(num_groups=2, num_channels=4, affine=True)\n",
    "m = gn(a)\n",
    "m.shape, m"
   ]
  },
  {
   "cell_type": "code",
   "execution_count": 129,
   "metadata": {},
   "outputs": [
    {
     "data": {
      "text/plain": [
       "tensor([[[ 0.5774,  0.5774],\n",
       "         [ 0.5774,  0.5774]],\n",
       "\n",
       "        [[-1.7321,  0.5774],\n",
       "         [ 0.5774, -1.7321]]])"
      ]
     },
     "execution_count": 129,
     "metadata": {},
     "output_type": "execute_result"
    }
   ],
   "source": [
    "tmp = a[0, :2, :].clone()\n",
    "(tmp - tmp.mean()) / tmp.std(correction=0)"
   ]
  },
  {
   "cell_type": "code",
   "execution_count": 112,
   "metadata": {},
   "outputs": [],
   "source": [
    "b = np.array([1,1,1,1,1,1,0,0])"
   ]
  },
  {
   "cell_type": "code",
   "execution_count": 130,
   "metadata": {},
   "outputs": [
    {
     "data": {
      "text/plain": [
       "array([ 0.57735027,  0.57735027,  0.57735027,  0.57735027,  0.57735027,\n",
       "        0.57735027, -1.73205081, -1.73205081])"
      ]
     },
     "execution_count": 130,
     "metadata": {},
     "output_type": "execute_result"
    }
   ],
   "source": [
    "(b - b.mean()) / b.std()"
   ]
  },
  {
   "cell_type": "code",
   "execution_count": 131,
   "metadata": {},
   "outputs": [
    {
     "data": {
      "text/plain": [
       "tensor([0.7500, 0.7500])"
      ]
     },
     "execution_count": 131,
     "metadata": {},
     "output_type": "execute_result"
    }
   ],
   "source": [
    "tmp.mean(dim=(0,2))"
   ]
  },
  {
   "cell_type": "code",
   "execution_count": 134,
   "metadata": {},
   "outputs": [
    {
     "data": {
      "text/plain": [
       "0.17445771563671483"
      ]
     },
     "execution_count": 134,
     "metadata": {},
     "output_type": "execute_result"
    }
   ],
   "source": [
    "(1 - 0.75) / 1.433012"
   ]
  },
  {
   "cell_type": "code",
   "execution_count": 157,
   "metadata": {},
   "outputs": [
    {
     "name": "stdout",
     "output_type": "stream",
     "text": [
      "torch.Size([4])\n",
      "torch.Size([4])\n"
     ]
    }
   ],
   "source": [
    "for param in gn.parameters():\n",
    "    print(param.shape)"
   ]
  }
 ],
 "metadata": {
  "kernelspec": {
   "display_name": "dev",
   "language": "python",
   "name": "python3"
  },
  "language_info": {
   "codemirror_mode": {
    "name": "ipython",
    "version": 3
   },
   "file_extension": ".py",
   "mimetype": "text/x-python",
   "name": "python",
   "nbconvert_exporter": "python",
   "pygments_lexer": "ipython3",
   "version": "3.8.16"
  },
  "orig_nbformat": 4
 },
 "nbformat": 4,
 "nbformat_minor": 2
}
